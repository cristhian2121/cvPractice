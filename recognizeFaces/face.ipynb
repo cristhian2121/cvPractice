{
 "cells": [
  {
   "cell_type": "code",
   "execution_count": 2,
   "metadata": {},
   "outputs": [],
   "source": [
    "import cv2"
   ]
  },
  {
   "cell_type": "code",
   "execution_count": 3,
   "metadata": {},
   "outputs": [],
   "source": [
    "image = cv2.imread(\"humans.jpeg\")\n",
    "face_cascade = cv2.CascadeClassifier(\"faces.xml\")"
   ]
  },
  {
   "cell_type": "code",
   "execution_count": 4,
   "metadata": {},
   "outputs": [
    {
     "data": {
      "text/plain": [
       "array([[1383,   82,   52,   52],\n",
       "       [ 901,  185,   59,   59],\n",
       "       [1232,  156,   60,   60],\n",
       "       [ 348,  204,   67,   67],\n",
       "       [ 123,  191,   64,   64],\n",
       "       [1289,  222,   78,   78],\n",
       "       [ 379,  258,   90,   90],\n",
       "       [ 567,  273,   81,   81],\n",
       "       [1484,  239,  112,  112],\n",
       "       [1188,  304,  122,  122],\n",
       "       [1274,  330,   86,   86],\n",
       "       [ 774,  362,  103,  103],\n",
       "       [1382,  390,  144,  144],\n",
       "       [ 384,  436,  138,  138],\n",
       "       [1096,  441,  122,  122],\n",
       "       [ 967,  487,  147,  147],\n",
       "       [ 523,  434,   99,   99],\n",
       "       [ 434,  502,  270,  270],\n",
       "       [ 452,  640,  199,  199],\n",
       "       [   1,  665,  192,  192],\n",
       "       [1270,  760,   66,   66]], dtype=int32)"
      ]
     },
     "execution_count": 4,
     "metadata": {},
     "output_type": "execute_result"
    }
   ],
   "source": [
    "faces = face_cascade.detectMultiScale(image, 1.2, 2)\n",
    "faces"
   ]
  },
  {
   "cell_type": "code",
   "execution_count": 5,
   "metadata": {},
   "outputs": [],
   "source": [
    "for (x, y, w, h) in faces:\n",
    "    cv2.rectangle(image, (x, y), (x+w, y+h), (255, 0, 0), 3)\n"
   ]
  },
  {
   "cell_type": "code",
   "execution_count": 6,
   "metadata": {},
   "outputs": [
    {
     "data": {
      "text/plain": [
       "True"
      ]
     },
     "execution_count": 6,
     "metadata": {},
     "output_type": "execute_result"
    }
   ],
   "source": [
    "cv2.imwrite(\"humanFaces.jpg\", image)"
   ]
  },
  {
   "attachments": {},
   "cell_type": "markdown",
   "metadata": {},
   "source": [
    "### Recognize faces and put the images in another directory\n",
    "**Documentation about method:** https://docs.opencv.org/3.4/d1/de5/classcv_1_1CascadeClassifier.html"
   ]
  },
  {
   "cell_type": "markdown",
   "metadata": {},
   "source": []
  },
  {
   "cell_type": "code",
   "execution_count": 8,
   "metadata": {},
   "outputs": [
    {
     "name": "stdout",
     "output_type": "stream",
     "text": [
      "garden.jpeg\n",
      "8\n",
      "galaxy.jpeg\n",
      "air.jpeg\n",
      "working.jpeg\n",
      "8\n"
     ]
    }
   ],
   "source": [
    "import os\n",
    "DIR = \"images/\"\n",
    "dirList = os.listdir(DIR)\n",
    "for imageName in dirList:\n",
    "    print(imageName)\n",
    "    imageAux = cv2.imread(DIR+imageName)\n",
    "    facesDetected = face_cascade.detectMultiScale(imageAux, 1.2, 3)\n",
    "\n",
    "    if(type(facesDetected) is tuple):\n",
    "        continue\n",
    "    \n",
    "    print(facesDetected.size)\n",
    "\n",
    "    if facesDetected.size:\n",
    "        for (x, y, w, h) in facesDetected:\n",
    "            cv2.rectangle(imageAux, (x, y), (x+w, y+h), (255, 0, 0), 3)\n",
    "        \n",
    "        #Save image\n",
    "        cv2.imwrite(os.getcwd()+\"/output/\"+imageName, imageAux)"
   ]
  }
 ],
 "metadata": {
  "kernelspec": {
   "display_name": "imagePlaygroud",
   "language": "python",
   "name": "python3"
  },
  "language_info": {
   "codemirror_mode": {
    "name": "ipython",
    "version": 3
   },
   "file_extension": ".py",
   "mimetype": "text/x-python",
   "name": "python",
   "nbconvert_exporter": "python",
   "pygments_lexer": "ipython3",
   "version": "3.11.0"
  },
  "orig_nbformat": 4,
  "vscode": {
   "interpreter": {
    "hash": "e0111f53f6332cc09d6176b6b44ad9898976a733390d1f1869f0df9ba0ca5127"
   }
  }
 },
 "nbformat": 4,
 "nbformat_minor": 2
}
