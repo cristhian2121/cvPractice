{
 "cells": [
  {
   "cell_type": "code",
   "execution_count": 5,
   "metadata": {},
   "outputs": [],
   "source": [
    "import os\n",
    "import cv2\n",
    "import numpy as np"
   ]
  },
  {
   "cell_type": "code",
   "execution_count": 6,
   "metadata": {},
   "outputs": [
    {
     "data": {
      "text/plain": [
       "True"
      ]
     },
     "execution_count": 6,
     "metadata": {},
     "output_type": "execute_result"
    }
   ],
   "source": [
    "foreGround = cv2.imread(\"images/giraffe.jpeg\")\n",
    "backGround = cv2.imread(\"images/safari.jpeg\")\n",
    "\n",
    "# extract image properties\n",
    "width = foreGround.shape[1]\n",
    "height = foreGround.shape[0]\n",
    "\n",
    "# resize background image\n",
    "backGroundResized = cv2.resize(backGround, (width, height))\n",
    "\n",
    "for i in range(width):\n",
    "    for j in range(height):\n",
    "        pixel = foreGround[j,i]\n",
    "\n",
    "        if np.any(pixel == [0,255,0]):\n",
    "            foreGround[j, i] = backGroundResized[j, i]\n",
    "cv2.imwrite(os.getcwd()+\"/output/\" \"result.jpg\", foreGround)"
   ]
  }
 ],
 "metadata": {
  "kernelspec": {
   "display_name": "imagePlaygroud",
   "language": "python",
   "name": "python3"
  },
  "language_info": {
   "codemirror_mode": {
    "name": "ipython",
    "version": 3
   },
   "file_extension": ".py",
   "mimetype": "text/x-python",
   "name": "python",
   "nbconvert_exporter": "python",
   "pygments_lexer": "ipython3",
   "version": "3.11.0"
  },
  "orig_nbformat": 4,
  "vscode": {
   "interpreter": {
    "hash": "e0111f53f6332cc09d6176b6b44ad9898976a733390d1f1869f0df9ba0ca5127"
   }
  }
 },
 "nbformat": 4,
 "nbformat_minor": 2
}
